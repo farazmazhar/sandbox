{
 "cells": [
  {
   "cell_type": "code",
   "execution_count": 1,
   "metadata": {},
   "outputs": [],
   "source": [
    "# Importing Kafka libraries.\n",
    "from confluent_kafka import Consumer"
   ]
  },
  {
   "cell_type": "code",
   "execution_count": 2,
   "metadata": {},
   "outputs": [],
   "source": [
    "# logging\n",
    "import logging"
   ]
  },
  {
   "cell_type": "code",
   "execution_count": 3,
   "metadata": {},
   "outputs": [],
   "source": [
    "# Configurations\n",
    "\n",
    "conf = { \n",
    "    'bootstrap.servers':'127.0.0.1:9092',\n",
    "    'group.id':'very_cool_group'\n",
    "}\n",
    "\n",
    "topic = 'RedditTopic'"
   ]
  },
  {
   "cell_type": "code",
   "execution_count": 4,
   "metadata": {},
   "outputs": [],
   "source": [
    "logger = logging.getLogger()\n",
    "logger.addHandler(logging.StreamHandler())\n",
    "\n",
    "consumer = Consumer(conf, logger=logger)"
   ]
  },
  {
   "cell_type": "code",
   "execution_count": 5,
   "metadata": {},
   "outputs": [
    {
     "name": "stdout",
     "output_type": "stream",
     "text": [
      "Topic exists.\n"
     ]
    }
   ],
   "source": [
    "topics_list = consumer.list_topics()\n",
    "\n",
    "if topic not in topics_list.topics.keys():\n",
    "    print('Topic doesn\\'t exists.')\n",
    "else:    \n",
    "    consumer.subscribe([topic])\n",
    "    print('Topic exists.')"
   ]
  },
  {
   "cell_type": "code",
   "execution_count": null,
   "metadata": {
    "scrolled": true
   },
   "outputs": [
    {
     "name": "stdout",
     "output_type": "stream",
     "text": [
      "RedditTopic\n",
      "b'PandoranRedCross'\n",
      "b'(PS4) L4 a fire lyuda, H phasezerker, Bitch, Monocle, Duc, Companion, Lyuda(rad) and a lot more, all level 50 | -FL4K- | PandoranRedCross | 1571421167.0'\n",
      "(1, 1571421168583)\n",
      "---------------------------------------------\n",
      "RedditTopic\n",
      "b'indiegames'\n",
      "b'Witches Joust trailer | MADnet_Games | indiegames | 1571421433.0'\n",
      "(1, 1571421439185)\n",
      "---------------------------------------------\n",
      "RedditTopic\n",
      "b'Repsneakers'\n",
      "b'Donating to the homeless. | a1_15 | Repsneakers | 1571421454.0'\n",
      "(1, 1571421454183)\n",
      "---------------------------------------------\n",
      "RedditTopic\n",
      "b'lawschooladmissions'\n",
      "b'January LSAT | joshglatt | lawschooladmissions | 1571421455.0'\n",
      "(1, 1571421456363)\n",
      "---------------------------------------------\n",
      "RedditTopic\n",
      "b'oddlysatisfying'\n",
      "b'How to effectively slice a pomegranate | mars131 | oddlysatisfying | 1571421534.0'\n",
      "(1, 1571421534584)\n",
      "---------------------------------------------\n",
      "RedditTopic\n",
      "b'tf2'\n",
      "b'I have a question real quick | zeebyPL | tf2 | 1571421537.0'\n",
      "(1, 1571421538688)\n",
      "---------------------------------------------\n",
      "RedditTopic\n",
      "b'ik_ihe'\n",
      "b'ik\\xf0\\x9f\\x92\\xacihe | infinite-wishes | ik_ihe | 1571421537.0'\n",
      "(1, 1571421539830)\n",
      "---------------------------------------------\n",
      "RedditTopic\n",
      "b'fearofflying'\n",
      "b'What does a plane feel like? | Jmt697 | fearofflying | 1571421537.0'\n",
      "(1, 1571421540377)\n",
      "---------------------------------------------\n",
      "RedditTopic\n",
      "b'garfield'\n",
      "b'Found on twitter | SneyserBoy | garfield | 1571421538.0'\n",
      "(1, 1571421541992)\n",
      "---------------------------------------------\n",
      "RedditTopic\n",
      "b'RATS'\n",
      "b'Sleep well my love, i already miss you so much. | puffletops | RATS | 1571421538.0'\n",
      "(1, 1571421542531)\n",
      "---------------------------------------------\n",
      "RedditTopic\n",
      "b'AskReddit'\n",
      "b'What are two foods that look totally the same but taste differently? | Draigfyre | AskReddit | 1571421065.0'\n",
      "(1, 1571421100353)\n",
      "---------------------------------------------\n",
      "RedditTopic\n",
      "b'teenagers'\n",
      "b\"Calling yourself an atheist is just another quicker way of saying you're mentally retarded | wrenai | teenagers | 1571421454.0\"\n",
      "(1, 1571421455675)\n",
      "---------------------------------------------\n",
      "RedditTopic\n",
      "b'germany'\n",
      "b'Ze Germans are coming!!! | biggP- | germany | 1571421505.0'\n",
      "(1, 1571421507149)\n",
      "---------------------------------------------\n",
      "RedditTopic\n",
      "b'ConspiracyHeadlines'\n",
      "b'(February 10, 2015) Elizabeth Warren puts vaccine conspiracy theorists in their place | _Headline_Bot_ | ConspiracyHeadlines | 1571421536.0'\n",
      "(1, 1571421537539)\n",
      "---------------------------------------------\n",
      "RedditTopic\n",
      "b'sharepoint'\n",
      "b'Permissions Sanity Check | StaleCornflake | sharepoint | 1571421536.0'\n",
      "(1, 1571421538124)\n",
      "---------------------------------------------\n",
      "RedditTopic\n",
      "b'AskReddit'\n",
      "b\"What's your favorite album of yesteryear that gets you in the mood for a super cozy fall season? | beetlebath | AskReddit | 1571421540.0\"\n",
      "(1, 1571421544774)\n",
      "---------------------------------------------\n",
      "RedditTopic\n",
      "b'meme'\n",
      "b'Happy Spoopy everyone! | FireFighterZz | meme | 1571421065.0'\n",
      "(1, 1571421101759)\n",
      "---------------------------------------------\n",
      "RedditTopic\n",
      "b'FriendshipAdvice'\n",
      "b'How to deal with being the third wheel? | winding_stars | FriendshipAdvice | 1571421168.0'\n",
      "(1, 1571421171177)\n",
      "---------------------------------------------\n",
      "RedditTopic\n",
      "b'TomorrowByTogether'\n",
      "b'191018 Taehyun 1 and 2 | KPopology | TomorrowByTogether | 1571421433.0'\n",
      "(1, 1571421438467)\n",
      "---------------------------------------------\n",
      "RedditTopic\n",
      "b'SquaredCircle'\n",
      "b'Hana Kimura To Appear On Terrace House Tokyo | | Squared Circle Sirens | DevenStonow | SquaredCircle | 1571421433.0'\n",
      "(1, 1571421439930)\n",
      "---------------------------------------------\n",
      "RedditTopic\n",
      "b'politics'\n",
      "b'Conservative law firm pushes for massive voter purge in Wisconsin | ItsBernieBitch | politics | 1571421454.0'\n",
      "(1, 1571421454935)\n",
      "---------------------------------------------\n",
      "RedditTopic\n",
      "b'dating_advice'\n",
      "b'I need your guys\\xe2\\x80\\x99s opinion | kakashiog | dating_advice | 1571421532.0'\n",
      "(1, 1571421534008)\n",
      "---------------------------------------------\n",
      "RedditTopic\n",
      "b'GTA5Mod'\n",
      "b'\\xf0\\x9f\\x8c\\x90 [PC 1.48] | \\xf0\\x9f\\x94\\xa5 Largest Recovery Community | \\xf0\\x9f\\x92\\xb2 Cheapest Prices | \\xe2\\x98\\x91\\xef\\xb8\\x8f Most Trusted | \\xe2\\x9d\\xa4\\xef\\xb8\\x8f 500+ Customers And Reviews | Kinect3000 | GTA5Mod | 1571421536.0'\n",
      "(1, 1571421535228)\n",
      "---------------------------------------------\n",
      "RedditTopic\n",
      "b'zootopia'\n",
      "b'Our foxy hero (or not) by Ziegelzeig on DeviantArt | TenderPaw64 | zootopia | 1571421536.0'\n",
      "(1, 1571421535772)\n",
      "---------------------------------------------\n",
      "RedditTopic\n",
      "b'wine'\n",
      "b'Trip report: Paso Robles around harvest season (hidden gems, a couple duds) | Lost_in_Face | wine | 1571421536.0'\n",
      "(1, 1571421536979)\n",
      "---------------------------------------------\n",
      "RedditTopic\n",
      "b'memes'\n",
      "b'caw caw | ParZival_6452 | memes | 1571421537.0'\n",
      "(1, 1571421539253)\n",
      "---------------------------------------------\n",
      "RedditTopic\n",
      "b'QuestBridge'\n",
      "b'If I send my official test scores now, will they arrive in time of Nov 1? | aegyokook | QuestBridge | 1571421537.0'\n",
      "(1, 1571421540894)\n",
      "---------------------------------------------\n",
      "RedditTopic\n",
      "b'Duklock'\n",
      "b'lol xd | agar957prd | Duklock | 1571421537.0'\n",
      "(1, 1571421541445)\n",
      "---------------------------------------------\n",
      "RedditTopic\n",
      "b'scenedownload'\n",
      "b'SLAM MIXMARATHON XXL-Klingande-CABLE-17-10-2019-1KING | simpsons4110 | scenedownload | 1571421538.0'\n",
      "(1, 1571421543073)\n",
      "---------------------------------------------\n",
      "RedditTopic\n",
      "b'rarebooks'\n",
      "b'Signed Copy of Laughing Whitefish by \\xe2\\x80\\x9cRobert Traver\\xe2\\x80\\x9d | xCORVETTE | rarebooks | 1571421539.0'\n",
      "(1, 1571421544262)\n",
      "---------------------------------------------\n"
     ]
    }
   ],
   "source": [
    "while True:\n",
    "    for message in consumer.consume():\n",
    "        print(message.topic())\n",
    "        print(message.key())\n",
    "        print(message.value())        \n",
    "        print(message.timestamp())\n",
    "        print('---------------------------------------------')"
   ]
  },
  {
   "cell_type": "code",
   "execution_count": null,
   "metadata": {},
   "outputs": [],
   "source": [
    "consumer.close()"
   ]
  }
 ],
 "metadata": {
  "kernelspec": {
   "display_name": "Python 3",
   "language": "python",
   "name": "python3"
  },
  "language_info": {
   "codemirror_mode": {
    "name": "ipython",
    "version": 3
   },
   "file_extension": ".py",
   "mimetype": "text/x-python",
   "name": "python",
   "nbconvert_exporter": "python",
   "pygments_lexer": "ipython3",
   "version": "3.7.1"
  }
 },
 "nbformat": 4,
 "nbformat_minor": 2
}
