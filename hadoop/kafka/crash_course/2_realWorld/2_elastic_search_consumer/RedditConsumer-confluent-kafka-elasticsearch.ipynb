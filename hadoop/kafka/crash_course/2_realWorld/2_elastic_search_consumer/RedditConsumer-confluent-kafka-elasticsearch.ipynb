{
 "cells": [
  {
   "cell_type": "code",
   "execution_count": 1,
   "metadata": {},
   "outputs": [],
   "source": [
    "# Importing Kafka libraries.\n",
    "from confluent_kafka import Consumer"
   ]
  },
  {
   "cell_type": "code",
   "execution_count": 2,
   "metadata": {},
   "outputs": [],
   "source": [
    "# Import ElasticSearch library.\n",
    "from elasticsearch import Elasticsearch"
   ]
  },
  {
   "cell_type": "code",
   "execution_count": 3,
   "metadata": {},
   "outputs": [],
   "source": [
    "# logging\n",
    "import logging"
   ]
  },
  {
   "cell_type": "markdown",
   "metadata": {},
   "source": [
    "Run following to create an index in ElasticSearch:\n",
    "```\n",
    "PUT /reddit\n",
    "```\n",
    "\n",
    "Run following to insert data in ElasticSearch:\n",
    "```\n",
    "PUT /reddit/submission/1\n",
    "{\n",
    "    \"json\":\"goes here\"\n",
    "}\n",
    "```\n",
    "\n",
    "Run following to get data in ElasticSearch:\n",
    "```\n",
    "GET /reddit/submission/1\n",
    "```\n",
    "\n",
    "Run following to delete data in ElasticSearch:\n",
    "```\n",
    "DELETE /reddit/submission/1\n",
    "```\n",
    "\n",
    "Run following to delete an index in ElasticSaerch:\n",
    "```\n",
    "DELETE /reddit\n",
    "```"
   ]
  },
  {
   "cell_type": "code",
   "execution_count": 4,
   "metadata": {},
   "outputs": [],
   "source": [
    "# Configurations\n",
    "\n",
    "conf = { \n",
    "    'bootstrap.servers':'127.0.0.1:9092',\n",
    "    'group.id':'very_cool_group'\n",
    "}\n",
    "\n",
    "topic = 'RedditTopic'\n",
    "\n",
    "es_address = [\"https://:@very-cool-cluster-.eu-central-1.bonsaisearch.net:443\"]"
   ]
  },
  {
   "cell_type": "code",
   "execution_count": 5,
   "metadata": {},
   "outputs": [],
   "source": [
    "logger = logging.getLogger()\n",
    "logger.addHandler(logging.StreamHandler())\n",
    "\n",
    "consumer = Consumer(conf, logger=logger)\n",
    "\n",
    "es = Elasticsearch(es_address)"
   ]
  },
  {
   "cell_type": "code",
   "execution_count": 6,
   "metadata": {},
   "outputs": [
    {
     "name": "stdout",
     "output_type": "stream",
     "text": [
      "Topic exists.\n"
     ]
    }
   ],
   "source": [
    "topics_list = consumer.list_topics()\n",
    "\n",
    "if topic not in topics_list.topics.keys():\n",
    "    print('Topic doesn\\'t exists.')\n",
    "else:    \n",
    "    consumer.subscribe([topic])\n",
    "    print('Topic exists.')"
   ]
  },
  {
   "cell_type": "code",
   "execution_count": 14,
   "metadata": {
    "scrolled": true
   },
   "outputs": [
    {
     "name": "stdout",
     "output_type": "stream",
     "text": [
      "RedditTopic\n",
      "b'popheadscirclejerk'\n",
      "b'Forgive me queen | cubascastrodistrict | popheadscirclejerk | 1571682180.0'\n",
      "(1, 1571682206045)\n",
      "---------------------------------------------\n",
      "RedditTopic\n",
      "b'SciFiModels'\n",
      "b'SW Expanded Universe SHD-66 shadow droid (Dark Empire comic series) | RafaDiges | SciFiModels | 1571682181.0'\n",
      "(1, 1571682209362)\n",
      "---------------------------------------------\n",
      "RedditTopic\n",
      "b'MakeupAddiction'\n",
      "b'Green and Gold look (Products I used will be in a comment) | GingerSarahUK | MakeupAddiction | 1571682182.0'\n",
      "(1, 1571682217287)\n",
      "---------------------------------------------\n",
      "RedditTopic\n",
      "b'MintingCoins'\n",
      "b'4 Reasons Why Bitcoin is So Popular in South Africa - Bitcoinist.com | GaryPalmerJr | MintingCoins | 1571682183.0'\n",
      "(1, 1571682218373)\n",
      "---------------------------------------------\n",
      "RedditTopic\n",
      "b'crossfit'\n",
      "b'Open question for adaptive athletes | nipples4cripples | crossfit | 1571682183.0'\n",
      "(1, 1571682219458)\n",
      "---------------------------------------------\n",
      "RedditTopic\n",
      "b'soccer'\n",
      "b'Best Tactical Battle of the Season | Man United vs Liverpool 1-1 | Tactical Analysis | PM_ME_UR_YOGA_BOOTY | soccer | 1571682183.0'\n",
      "(1, 1571682221644)\n",
      "---------------------------------------------\n",
      "RedditTopic\n",
      "b'FortNiteBR'\n",
      "b'Concept : leveling up giving an exp boost | Real_amethyst8xm | FortNiteBR | 1571682183.0'\n",
      "(1, 1571682226086)\n",
      "---------------------------------------------\n",
      "RedditTopic\n",
      "b'sbubby'\n",
      "b'Oh god!! | alex20071 | sbubby | 1571682183.0'\n",
      "(1, 1571682227272)\n",
      "---------------------------------------------\n",
      "RedditTopic\n",
      "b'newjersey'\n",
      "b'REMINDER: The General Assembly Elections are on November 5! | Please-Grab-A-Sprite | newjersey | 1571682183.0'\n",
      "(1, 1571682228394)\n",
      "---------------------------------------------\n",
      "RedditTopic\n",
      "b'misfits'\n",
      "b'Do I skip to the latest? | aarxnr | misfits | 1571682184.0'\n",
      "(1, 1571682232116)\n",
      "---------------------------------------------\n"
     ]
    }
   ],
   "source": [
    "for i in range(10):\n",
    "    for message in consumer.consume():\n",
    "        print(message.topic())\n",
    "        print(message.key())\n",
    "        print(message.value())        \n",
    "        print(message.timestamp())\n",
    "        print('---------------------------------------------')\n",
    "        \n",
    "        es.create(index='reddit',\n",
    "                  id=str(i),\n",
    "                  body='{' \\\n",
    "                          '\"topic\":\"' + str(message.topic()) + '\",' \\\n",
    "                          '\"key\":\"' + str(message.key()) + '\",' \\\n",
    "                          '\"value\":\"' + str(message.value()) + '\",' \\\n",
    "                          '\"timestamp\":\"' + str(message.timestamp()) + '\"' \\\n",
    "                       '}'\n",
    "                      )"
   ]
  },
  {
   "cell_type": "code",
   "execution_count": null,
   "metadata": {},
   "outputs": [],
   "source": [
    "consumer.close()"
   ]
  }
 ],
 "metadata": {
  "kernelspec": {
   "display_name": "Python 3",
   "language": "python",
   "name": "python3"
  },
  "language_info": {
   "codemirror_mode": {
    "name": "ipython",
    "version": 3
   },
   "file_extension": ".py",
   "mimetype": "text/x-python",
   "name": "python",
   "nbconvert_exporter": "python",
   "pygments_lexer": "ipython3",
   "version": "3.7.1"
  }
 },
 "nbformat": 4,
 "nbformat_minor": 2
}