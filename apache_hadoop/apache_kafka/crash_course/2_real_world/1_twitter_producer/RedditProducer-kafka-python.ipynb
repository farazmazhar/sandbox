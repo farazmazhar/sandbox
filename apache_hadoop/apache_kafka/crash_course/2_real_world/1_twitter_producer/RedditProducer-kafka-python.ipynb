{
 "cells": [
  {
   "cell_type": "markdown",
   "metadata": {},
   "source": [
    "### Problems with kafka-python\n",
    "\n",
    "- KafkaAdminClient is causing problems.\n",
    "- Documentation is a bit rough.\n",
    "- Seems a bit rough around the edges."
   ]
  },
  {
   "cell_type": "code",
   "execution_count": 60,
   "metadata": {},
   "outputs": [],
   "source": [
    "# Importing Kafka libraries.\n",
    "from kafka import KafkaProducer\n",
    "from kafka import KafkaConsumer # Gets the list of Topics.\n",
    "from kafka.admin import KafkaAdminClient, NewTopic\n",
    "from kafka.errors import KafkaError"
   ]
  },
  {
   "cell_type": "code",
   "execution_count": 34,
   "metadata": {},
   "outputs": [],
   "source": [
    "# Importing Twitter's Python module.\n",
    "import praw\n",
    "from praw import models as m"
   ]
  },
  {
   "cell_type": "code",
   "execution_count": 58,
   "metadata": {},
   "outputs": [],
   "source": [
    "# Configurations\n",
    "\n",
    "bootstrap_server='127.0.0.1:9092'\n",
    "topic='RedditTopic'"
   ]
  },
  {
   "cell_type": "code",
   "execution_count": 25,
   "metadata": {},
   "outputs": [],
   "source": [
    "# Initiating instances.\n",
    "\n",
    "reddit = praw.Reddit(client_id='',\n",
    "                     client_secret='',\n",
    "                     password='',\n",
    "                     user_agent='testscript of a very cool app',\n",
    "                     username='')\n",
    "\n",
    "producer = KafkaProducer(bootstrap_servers=bootstrap_server,\n",
    "                         key_serializer=str.encode,\n",
    "                         value_serializer=str.encode)"
   ]
  },
  {
   "cell_type": "code",
   "execution_count": 62,
   "metadata": {},
   "outputs": [
    {
     "ename": "AttributeError",
     "evalue": "type object 'NewTopic' has no attribute 'name'",
     "output_type": "error",
     "traceback": [
      "\u001b[1;31m---------------------------------------------------------------------------\u001b[0m",
      "\u001b[1;31mAttributeError\u001b[0m                            Traceback (most recent call last)",
      "\u001b[1;32m<ipython-input-62-1e2ffca1d818>\u001b[0m in \u001b[0;36m<module>\u001b[1;34m\u001b[0m\n\u001b[0;32m      6\u001b[0m \u001b[1;32mif\u001b[0m \u001b[0mtopic\u001b[0m \u001b[1;32mnot\u001b[0m \u001b[1;32min\u001b[0m \u001b[0mtopics_set\u001b[0m\u001b[1;33m:\u001b[0m\u001b[1;33m\u001b[0m\u001b[1;33m\u001b[0m\u001b[0m\n\u001b[0;32m      7\u001b[0m     \u001b[0mNewTopic\u001b[0m\u001b[1;33m(\u001b[0m\u001b[0mname\u001b[0m\u001b[1;33m=\u001b[0m\u001b[0mtopic\u001b[0m\u001b[1;33m,\u001b[0m \u001b[0mnum_partitions\u001b[0m\u001b[1;33m=\u001b[0m\u001b[1;36m3\u001b[0m\u001b[1;33m,\u001b[0m \u001b[0mreplication_factor\u001b[0m\u001b[1;33m=\u001b[0m\u001b[1;36m1\u001b[0m\u001b[1;33m)\u001b[0m\u001b[1;33m\u001b[0m\u001b[1;33m\u001b[0m\u001b[0m\n\u001b[1;32m----> 8\u001b[1;33m     \u001b[0madmin_client\u001b[0m\u001b[1;33m.\u001b[0m\u001b[0mcreate_topics\u001b[0m\u001b[1;33m(\u001b[0m\u001b[0mnew_topics\u001b[0m\u001b[1;33m=\u001b[0m\u001b[1;33m[\u001b[0m\u001b[0mNewTopic\u001b[0m\u001b[1;33m]\u001b[0m\u001b[1;33m)\u001b[0m\u001b[1;33m\u001b[0m\u001b[1;33m\u001b[0m\u001b[0m\n\u001b[0m",
      "\u001b[1;32m~\\AppData\\Local\\Continuum\\anaconda3\\lib\\site-packages\\kafka\\admin\\client.py\u001b[0m in \u001b[0;36mcreate_topics\u001b[1;34m(self, new_topics, timeout_ms, validate_only)\u001b[0m\n\u001b[0;32m    400\u001b[0m         \u001b[1;32melif\u001b[0m \u001b[0mversion\u001b[0m \u001b[1;33m<=\u001b[0m \u001b[1;36m2\u001b[0m\u001b[1;33m:\u001b[0m\u001b[1;33m\u001b[0m\u001b[1;33m\u001b[0m\u001b[0m\n\u001b[0;32m    401\u001b[0m             request = CreateTopicsRequest[version](\n\u001b[1;32m--> 402\u001b[1;33m                 \u001b[0mcreate_topic_requests\u001b[0m\u001b[1;33m=\u001b[0m\u001b[1;33m[\u001b[0m\u001b[0mself\u001b[0m\u001b[1;33m.\u001b[0m\u001b[0m_convert_new_topic_request\u001b[0m\u001b[1;33m(\u001b[0m\u001b[0mnew_topic\u001b[0m\u001b[1;33m)\u001b[0m \u001b[1;32mfor\u001b[0m \u001b[0mnew_topic\u001b[0m \u001b[1;32min\u001b[0m \u001b[0mnew_topics\u001b[0m\u001b[1;33m]\u001b[0m\u001b[1;33m,\u001b[0m\u001b[1;33m\u001b[0m\u001b[1;33m\u001b[0m\u001b[0m\n\u001b[0m\u001b[0;32m    403\u001b[0m                 \u001b[0mtimeout\u001b[0m\u001b[1;33m=\u001b[0m\u001b[0mtimeout_ms\u001b[0m\u001b[1;33m,\u001b[0m\u001b[1;33m\u001b[0m\u001b[1;33m\u001b[0m\u001b[0m\n\u001b[0;32m    404\u001b[0m                 \u001b[0mvalidate_only\u001b[0m\u001b[1;33m=\u001b[0m\u001b[0mvalidate_only\u001b[0m\u001b[1;33m\u001b[0m\u001b[1;33m\u001b[0m\u001b[0m\n",
      "\u001b[1;32m~\\AppData\\Local\\Continuum\\anaconda3\\lib\\site-packages\\kafka\\admin\\client.py\u001b[0m in \u001b[0;36m<listcomp>\u001b[1;34m(.0)\u001b[0m\n\u001b[0;32m    400\u001b[0m         \u001b[1;32melif\u001b[0m \u001b[0mversion\u001b[0m \u001b[1;33m<=\u001b[0m \u001b[1;36m2\u001b[0m\u001b[1;33m:\u001b[0m\u001b[1;33m\u001b[0m\u001b[1;33m\u001b[0m\u001b[0m\n\u001b[0;32m    401\u001b[0m             request = CreateTopicsRequest[version](\n\u001b[1;32m--> 402\u001b[1;33m                 \u001b[0mcreate_topic_requests\u001b[0m\u001b[1;33m=\u001b[0m\u001b[1;33m[\u001b[0m\u001b[0mself\u001b[0m\u001b[1;33m.\u001b[0m\u001b[0m_convert_new_topic_request\u001b[0m\u001b[1;33m(\u001b[0m\u001b[0mnew_topic\u001b[0m\u001b[1;33m)\u001b[0m \u001b[1;32mfor\u001b[0m \u001b[0mnew_topic\u001b[0m \u001b[1;32min\u001b[0m \u001b[0mnew_topics\u001b[0m\u001b[1;33m]\u001b[0m\u001b[1;33m,\u001b[0m\u001b[1;33m\u001b[0m\u001b[1;33m\u001b[0m\u001b[0m\n\u001b[0m\u001b[0;32m    403\u001b[0m                 \u001b[0mtimeout\u001b[0m\u001b[1;33m=\u001b[0m\u001b[0mtimeout_ms\u001b[0m\u001b[1;33m,\u001b[0m\u001b[1;33m\u001b[0m\u001b[1;33m\u001b[0m\u001b[0m\n\u001b[0;32m    404\u001b[0m                 \u001b[0mvalidate_only\u001b[0m\u001b[1;33m=\u001b[0m\u001b[0mvalidate_only\u001b[0m\u001b[1;33m\u001b[0m\u001b[1;33m\u001b[0m\u001b[0m\n",
      "\u001b[1;32m~\\AppData\\Local\\Continuum\\anaconda3\\lib\\site-packages\\kafka\\admin\\client.py\u001b[0m in \u001b[0;36m_convert_new_topic_request\u001b[1;34m(new_topic)\u001b[0m\n\u001b[0;32m    366\u001b[0m     \u001b[1;32mdef\u001b[0m \u001b[0m_convert_new_topic_request\u001b[0m\u001b[1;33m(\u001b[0m\u001b[0mnew_topic\u001b[0m\u001b[1;33m)\u001b[0m\u001b[1;33m:\u001b[0m\u001b[1;33m\u001b[0m\u001b[1;33m\u001b[0m\u001b[0m\n\u001b[0;32m    367\u001b[0m         return (\n\u001b[1;32m--> 368\u001b[1;33m             \u001b[0mnew_topic\u001b[0m\u001b[1;33m.\u001b[0m\u001b[0mname\u001b[0m\u001b[1;33m,\u001b[0m\u001b[1;33m\u001b[0m\u001b[1;33m\u001b[0m\u001b[0m\n\u001b[0m\u001b[0;32m    369\u001b[0m             \u001b[0mnew_topic\u001b[0m\u001b[1;33m.\u001b[0m\u001b[0mnum_partitions\u001b[0m\u001b[1;33m,\u001b[0m\u001b[1;33m\u001b[0m\u001b[1;33m\u001b[0m\u001b[0m\n\u001b[0;32m    370\u001b[0m             \u001b[0mnew_topic\u001b[0m\u001b[1;33m.\u001b[0m\u001b[0mreplication_factor\u001b[0m\u001b[1;33m,\u001b[0m\u001b[1;33m\u001b[0m\u001b[1;33m\u001b[0m\u001b[0m\n",
      "\u001b[1;31mAttributeError\u001b[0m: type object 'NewTopic' has no attribute 'name'"
     ]
    }
   ],
   "source": [
    "no_topic_consumer = KafkaConsumer(bootstrap_servers=[bootstrap_server])\n",
    "admin_client = KafkaAdminClient(bootstrap_servers=bootstrap_server)\n",
    "\n",
    "topics_set = no_topic_consumer.topics()\n",
    "\n",
    "if topic not in topics_set:\n",
    "    NewTopic(name=topic, num_partitions=3, replication_factor=1)\n",
    "    admin_client.create_topics(new_topics=[NewTopic])    "
   ]
  },
  {
   "cell_type": "code",
   "execution_count": 43,
   "metadata": {},
   "outputs": [
    {
     "name": "stdout",
     "output_type": "stream",
     "text": [
      "In oil-rich region, Venezuelans fear catastrophe if Trump forces Chevron to leave\n",
      "thefeedbot\n",
      "1571415433.0\n",
      "OneAmericaNews\n",
      "In a dellima about my brand, Need advice please.\n",
      "Jma1087\n",
      "1571415436.0\n",
      "streetwearstartup\n",
      "As a sign of solidarity with Hong Kong and their will for freedom, it was announced today that the powerful r/Kosovo subreddit will be deploying 1,500 of its subscribers to help with the organized protests taking place in Hong Kong.\n",
      "TheDitkaDog\n",
      "1571415437.0\n",
      "China\n",
      "Cloud Men In my Garden? What are they?\n",
      "budgiesbestbird\n",
      "1571415440.0\n",
      "Humanoidencounters\n",
      "Official Breeding\n",
      "mekyuh\n",
      "1571415440.0\n",
      "ARK\n"
     ]
    }
   ],
   "source": [
    "x = 0\n",
    "\n",
    "for submission in reddit.subreddit('popular').stream.submissions(skip_existing=True):\n",
    "    obj = m.Submission(reddit, id=submission)\n",
    "    \n",
    "#     print(obj.title)\n",
    "#     print(obj.author.name)\n",
    "#     print(obj.created_utc)\n",
    "#     print(obj.subreddit)\n",
    "    \n",
    "    value = str(obj.title) + ' | ' + str(obj.author.name) + ' | ' + str(obj.subreddit) + ' | ' + str(obj.created_utc)\n",
    "    \n",
    "    producer.send(value=value, key=str(obj.subreddit))\n",
    "    \n",
    "    x += 1\n",
    "    if x == 10:\n",
    "        producer.flush()\n",
    "        x = 0\n",
    "        "
   ]
  },
  {
   "cell_type": "code",
   "execution_count": null,
   "metadata": {},
   "outputs": [],
   "source": []
  }
 ],
 "metadata": {
  "kernelspec": {
   "display_name": "Python 3",
   "language": "python",
   "name": "python3"
  },
  "language_info": {
   "codemirror_mode": {
    "name": "ipython",
    "version": 3
   },
   "file_extension": ".py",
   "mimetype": "text/x-python",
   "name": "python",
   "nbconvert_exporter": "python",
   "pygments_lexer": "ipython3",
   "version": "3.7.1"
  }
 },
 "nbformat": 4,
 "nbformat_minor": 2
}